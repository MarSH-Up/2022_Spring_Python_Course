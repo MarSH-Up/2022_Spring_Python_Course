{
  "nbformat": 4,
  "nbformat_minor": 0,
  "metadata": {
    "colab": {
      "name": "2022_Práctica1_CUENTA.ipynb",
      "provenance": []
    },
    "kernelspec": {
      "name": "python3",
      "display_name": "Python 3"
    },
    "language_info": {
      "name": "python"
    }
  },
  "cells": [
    {
      "cell_type": "markdown",
      "source": [
        "#PRÁCTICA 1. TIPOS DE DATOS Y VARIABLES\n",
        "##UNIVERSIDAD IBEROAMERICANA PUEBLA\n",
        "###PROFESOR: MARIO DE LOS SANTOS\n",
        "\n",
        "###ALUMNO:\n",
        "###CUENTA:\n",
        "###FECHA DE ENTREGA: 8 DE FEBRERO DEL 2022\n"
      ],
      "metadata": {
        "id": "4e7UhrqOoRBW"
      }
    },
    {
      "cell_type": "markdown",
      "source": [
        "DECRIPTION: Receipts for Lovely Loveseats\n",
        "We’ve decided to pursue the dream of small-business ownership and open up a furniture store called Lovely Loveseats for Neat Suites on Fleet Street. With our newfound knowledge of Python programming, we’re going to build a system to help speed up the process of creating receipts for your customers.\n",
        "\n",
        "In this project, we will be storing the names and prices of a furniture store’s catalog in variables. You will then process the total price and item list of customers, printing them to the output terminal.\n"
      ],
      "metadata": {
        "id": "qn20vnpyoufh"
      }
    },
    {
      "cell_type": "markdown",
      "source": [
        "1. Let’s add in our first item, the Lovely Loveseat that is the store’s namesake. Create a variable called lovely_loveseat_description and assign to it the following string: \"Lovely Loveseat. Tufted polyester blend on wood. 32 inches high x 40 inches wide x 30 inches deep. Red or white\""
      ],
      "metadata": {
        "id": "cjt3F6fSsAQK"
      }
    },
    {
      "cell_type": "code",
      "source": [
        ""
      ],
      "metadata": {
        "id": "OvmwdMkltFoC"
      },
      "execution_count": null,
      "outputs": []
    },
    {
      "cell_type": "markdown",
      "source": [
        "2. Great, now let’s create a price for the loveseat. Create a variable \"lovely_loveseat_price\" and set it equal to 254.00."
      ],
      "metadata": {
        "id": "odQRUtJ3tF7Q"
      }
    },
    {
      "cell_type": "code",
      "source": [
        ""
      ],
      "metadata": {
        "id": "cGjdaxWltIye"
      },
      "execution_count": null,
      "outputs": []
    },
    {
      "cell_type": "markdown",
      "source": [
        "3. Let’s extend our inventory with another characteristic piece of furniture! Create a variable called \"stylish_settee_description\" and assign to it the following string:"
      ],
      "metadata": {
        "id": "JxsLv7uXtJSv"
      }
    },
    {
      "cell_type": "code",
      "source": [
        ""
      ],
      "metadata": {
        "id": "dNq_hqJgtM7t"
      },
      "execution_count": null,
      "outputs": []
    },
    {
      "cell_type": "markdown",
      "source": [
        "4. Now let’s set the price for our Stylish Settee. Create a variable \"stylish_settee_price\" and assign it the value of 180.50."
      ],
      "metadata": {
        "id": "-e77cXKztNrc"
      }
    },
    {
      "cell_type": "code",
      "source": [
        ""
      ],
      "metadata": {
        "id": "OUGFYwz8tPYU"
      },
      "execution_count": null,
      "outputs": []
    },
    {
      "cell_type": "markdown",
      "source": [
        "5. Fantastic, we just need one more item before we’re ready for business. Create a new variable called \"luxurious_lamp_description\" and assign it the following:"
      ],
      "metadata": {
        "id": "o_Vq4Ga5tQLu"
      }
    },
    {
      "cell_type": "code",
      "source": [
        ""
      ],
      "metadata": {
        "id": "XKLhgyOntTYR"
      },
      "execution_count": null,
      "outputs": []
    },
    {
      "cell_type": "markdown",
      "source": [
        "6. Let’s set the price for this item. Create a variable called \"luxurious_lamp_price\" and set it equal to 52.15."
      ],
      "metadata": {
        "id": "kRWl6OrztUDn"
      }
    },
    {
      "cell_type": "code",
      "source": [
        ""
      ],
      "metadata": {
        "id": "QD4U2WTytVuu"
      },
      "execution_count": null,
      "outputs": []
    },
    {
      "cell_type": "markdown",
      "source": [
        "7. \n",
        "In order to be a business, we should also be calculating sales tax. Let’s store that in a variable as well.\n",
        "\n",
        "Define the variable \"sales_tax\" and set it equal to .088. That’s 8.8%.\n"
      ],
      "metadata": {
        "id": "9FIs1Cv9tWjg"
      }
    },
    {
      "cell_type": "code",
      "source": [
        ""
      ],
      "metadata": {
        "id": "8xV6Dpoxto8O"
      },
      "execution_count": null,
      "outputs": []
    },
    {
      "cell_type": "markdown",
      "source": [
        "8. Our first customer is making their purchase! Let’s keep a running tally of their expenses by defining a variable called customer_one_total. Since they haven’t purchased anything yet, let’s set that variable equal to 0 for now."
      ],
      "metadata": {
        "id": "WLdNT_vpt59E"
      }
    },
    {
      "cell_type": "code",
      "source": [
        ""
      ],
      "metadata": {
        "id": "uORN8W5Yt73C"
      },
      "execution_count": null,
      "outputs": []
    },
    {
      "cell_type": "markdown",
      "source": [
        "9. \n",
        "We should also keep a list of the descriptions of things they’re purchasing. Create a variable called customer_one_itemization and set that equal to the empty string \"\". We’ll tack on the descriptions to this as they make their purchases."
      ],
      "metadata": {
        "id": "G-emPb-Wt9X0"
      }
    },
    {
      "cell_type": "code",
      "source": [
        ""
      ],
      "metadata": {
        "id": "VgH5qvuEt-Ij"
      },
      "execution_count": null,
      "outputs": []
    },
    {
      "cell_type": "markdown",
      "source": [
        "10. Our customer has decided they are going to purchase our Lovely Loveseat! Add the price to customer_one_total."
      ],
      "metadata": {
        "id": "-Nuy1RVYt-y9"
      }
    },
    {
      "cell_type": "code",
      "source": [
        ""
      ],
      "metadata": {
        "id": "s3kH_Ce_uC1t"
      },
      "execution_count": null,
      "outputs": []
    },
    {
      "cell_type": "markdown",
      "source": [
        "11.  Let’s start keeping track of the items our customer purchased. Add the description of the Lovely Loveseat to customer_one_itemization."
      ],
      "metadata": {
        "id": "zX9NeriWuEaK"
      }
    },
    {
      "cell_type": "code",
      "source": [
        ""
      ],
      "metadata": {
        "id": "ccucoqAsuHSC"
      },
      "execution_count": null,
      "outputs": []
    },
    {
      "cell_type": "markdown",
      "source": [
        "12. Our customer has also decided to purchase the Luxurious Lamp! Let’s add the price to the customer’s total"
      ],
      "metadata": {
        "id": "PlLeULL-uHvn"
      }
    },
    {
      "cell_type": "code",
      "source": [
        ""
      ],
      "metadata": {
        "id": "3aHvPwPXuKwB"
      },
      "execution_count": null,
      "outputs": []
    },
    {
      "cell_type": "markdown",
      "source": [
        "13. Let’s keep the itemization up-to-date and add the description of the Luxurious Lamp to our itemization."
      ],
      "metadata": {
        "id": "PCMMRP-3uLLn"
      }
    },
    {
      "cell_type": "code",
      "source": [
        ""
      ],
      "metadata": {
        "id": "9ldU5aWuuM0J"
      },
      "execution_count": null,
      "outputs": []
    },
    {
      "cell_type": "markdown",
      "source": [
        "14. They’re ready to check out! Let’s begin by calculating sales tax. Create a variable called customer_one_tax and set it equal to customer_one_total times sales_tax."
      ],
      "metadata": {
        "id": "zh1NvQLKuNTN"
      }
    },
    {
      "cell_type": "code",
      "source": [
        ""
      ],
      "metadata": {
        "id": "B6uts7GluPSl"
      },
      "execution_count": null,
      "outputs": []
    },
    {
      "cell_type": "markdown",
      "source": [
        "15. \n",
        "Add the sales tax to the customer’s total cost."
      ],
      "metadata": {
        "id": "lt-ddC2SuRCg"
      }
    },
    {
      "cell_type": "code",
      "source": [
        ""
      ],
      "metadata": {
        "id": "DXxcpja1uTc4"
      },
      "execution_count": null,
      "outputs": []
    },
    {
      "cell_type": "markdown",
      "source": [
        "17. Print customer_one_itemization."
      ],
      "metadata": {
        "id": "OtY6fGpJuUzj"
      }
    },
    {
      "cell_type": "code",
      "source": [
        ""
      ],
      "metadata": {
        "id": "TMHJoMf9uXq1"
      },
      "execution_count": null,
      "outputs": []
    },
    {
      "cell_type": "markdown",
      "source": [
        " 18. Now add a heading for their total cost: Print out \"Customer One Total:\""
      ],
      "metadata": {
        "id": "WXg-FRIEuZe6"
      }
    },
    {
      "cell_type": "code",
      "source": [
        ""
      ],
      "metadata": {
        "id": "FyvYF9L2ueWU"
      },
      "execution_count": null,
      "outputs": []
    },
    {
      "cell_type": "markdown",
      "source": [
        "19. Now print out their total! Our first customer now has a receipt for the things they purchased.\n"
      ],
      "metadata": {
        "id": "WHB5fDgNugsg"
      }
    },
    {
      "cell_type": "code",
      "source": [
        ""
      ],
      "metadata": {
        "id": "2Kgxmg-KuiZF"
      },
      "execution_count": null,
      "outputs": []
    },
    {
      "cell_type": "markdown",
      "source": [
        "20. Congratulations! We created our catalog and served our first customer. We used our knowledge of strings and numbers to create and update variables. We could print out an itemized list and a total cost for our customers. Lovely! Now, please return to the respect code cell and add two products with their description and cost, then add a new customer and create the total cost and itemization. :D"
      ],
      "metadata": {
        "id": "vQ6Onv-Bui0H"
      }
    },
    {
      "cell_type": "code",
      "source": [
        ""
      ],
      "metadata": {
        "id": "mGkDfP3_uvq6"
      },
      "execution_count": null,
      "outputs": []
    }
  ]
}