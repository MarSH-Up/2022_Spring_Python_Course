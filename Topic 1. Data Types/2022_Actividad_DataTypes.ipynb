{
  "nbformat": 4,
  "nbformat_minor": 0,
  "metadata": {
    "colab": {
      "name": "2022_Actividad_DataTypes.ipynb",
      "provenance": []
    },
    "kernelspec": {
      "name": "python3",
      "display_name": "Python 3"
    },
    "language_info": {
      "name": "python"
    }
  },
  "cells": [
    {
      "cell_type": "markdown",
      "source": [
        "#PRIMER ACTIVIDAD EN CLASE"
      ],
      "metadata": {
        "id": "yl_tIn1Y2QxR"
      }
    },
    {
      "cell_type": "code",
      "source": [
        "#ESTO ES UN COMENTARIO DE UNA LINEA, NO VISIBLE EN LA EJECUCIÓN\n",
        "'''\n",
        "Esto es un comentario de parrafo, VISIBLE EN LA EJECUCIÓN\n",
        "'''\n"
      ],
      "metadata": {
        "colab": {
          "base_uri": "https://localhost:8080/",
          "height": 35
        },
        "id": "Bg2mAczr2Tjb",
        "outputId": "04c17cde-1968-4151-c453-788a0bcce5a9"
      },
      "execution_count": null,
      "outputs": [
        {
          "output_type": "execute_result",
          "data": {
            "application/vnd.google.colaboratory.intrinsic+json": {
              "type": "string"
            },
            "text/plain": [
              "'\\nEsto es un comentario de parrafo, VISIBLE EN LA EJECUCIÓN\\n'"
            ]
          },
          "metadata": {},
          "execution_count": 8
        }
      ]
    },
    {
      "cell_type": "code",
      "source": [
        "X = 10 #Esto es una variable int \n",
        "Y = 5.1 #Esto es una variable float \n",
        "\n",
        "Z = X + Y #Esto es una suma entre un int y float\n",
        "print(Z) #Esto imprime el resultado de la suma. "
      ],
      "metadata": {
        "colab": {
          "base_uri": "https://localhost:8080/"
        },
        "id": "yl0wiwzDAhbO",
        "outputId": "d08909fb-f2ad-447a-fc0b-4905cade5cb9"
      },
      "execution_count": null,
      "outputs": [
        {
          "output_type": "stream",
          "name": "stdout",
          "text": [
            "15.1\n"
          ]
        }
      ]
    },
    {
      "cell_type": "code",
      "source": [
        "#PROBANDO OPERACIONES LOGICAS\n",
        "\n",
        "#AND\n",
        "Status1 = True #Esto es una variable booleana \n",
        "Status2 = True\n",
        "\n",
        "Status1 and Status2 #Esto es un operador AND"
      ],
      "metadata": {
        "colab": {
          "base_uri": "https://localhost:8080/"
        },
        "id": "EoYIfWEDBa9G",
        "outputId": "d29ccc52-a0b1-44b6-9530-3115859752b1"
      },
      "execution_count": null,
      "outputs": [
        {
          "output_type": "execute_result",
          "data": {
            "text/plain": [
              "True"
            ]
          },
          "metadata": {},
          "execution_count": 13
        }
      ]
    },
    {
      "cell_type": "code",
      "source": [
        "#OR\n",
        "Status3 = False #Esto es una variable booleana\n",
        "Status4 = True\n",
        "\n",
        "Status3 or Status4 #Esto es un operador OR"
      ],
      "metadata": {
        "colab": {
          "base_uri": "https://localhost:8080/"
        },
        "id": "VG9pFBhLByYk",
        "outputId": "2453f81a-29b7-4d38-abd8-ec72ef6ecb0d"
      },
      "execution_count": null,
      "outputs": [
        {
          "output_type": "execute_result",
          "data": {
            "text/plain": [
              "True"
            ]
          },
          "metadata": {},
          "execution_count": 15
        }
      ]
    },
    {
      "cell_type": "code",
      "source": [
        "#NOT\n",
        "Status5 = False #Esto es una variable booleana\n",
        "Status6 = False\n",
        "\n",
        "#REVISAR EL OPERADOR NOT PARA LA VERSION DE PYTHON USADA....\n",
        "Status5 not Status6 #Operador not \n"
      ],
      "metadata": {
        "colab": {
          "base_uri": "https://localhost:8080/",
          "height": 132
        },
        "id": "oo5mP77-Cb66",
        "outputId": "b31538c5-9f3b-4fd0-b055-cbb180def787"
      },
      "execution_count": null,
      "outputs": [
        {
          "output_type": "error",
          "ename": "SyntaxError",
          "evalue": "ignored",
          "traceback": [
            "\u001b[0;36m  File \u001b[0;32m\"<ipython-input-21-36258b751fce>\"\u001b[0;36m, line \u001b[0;32m6\u001b[0m\n\u001b[0;31m    Status5 not Status6 #Operador not\u001b[0m\n\u001b[0m                      ^\u001b[0m\n\u001b[0;31mSyntaxError\u001b[0m\u001b[0;31m:\u001b[0m invalid syntax\n"
          ]
        }
      ]
    },
    {
      "cell_type": "code",
      "source": [
        "nombre = \"Mario\" #Esto es un string/cadena \n",
        "apellido = \"De Los Santos\"\n",
        "age = 10 #Esto es un entero\n",
        "print(nombre + \" \" + apellido + \" Edad: \" + str(age)) #Y aqui, transforme el entero a una cadena "
      ],
      "metadata": {
        "colab": {
          "base_uri": "https://localhost:8080/"
        },
        "id": "1VAYUgRrDGJM",
        "outputId": "cad12754-da41-4cf5-add9-9ab816315d90"
      },
      "execution_count": null,
      "outputs": [
        {
          "output_type": "stream",
          "name": "stdout",
          "text": [
            "Mario De Los Santos Edad: 10\n"
          ]
        }
      ]
    },
    {
      "cell_type": "code",
      "source": [
        "from typing import MutableSet\n",
        "#Operaciones matematicas\n",
        "#Resta\n",
        "num1 = 5 #Entero\n",
        "num2 = 5 #Entero\n",
        "\n",
        "resta = num1 - num2 #Esto es una resta\n",
        "print(\"Resultado de la resta es: \", resta) #IMPORTANTE: OBSERVA LA COMA\n",
        "\n",
        "#Multiplicación\n",
        "n_3 = 8 #Entero\n",
        "n_4 = 3 #Entero\n",
        "\n",
        "mult = n_3 * n_4 #Esto es una multiplicación\n",
        "print(\"Resultado de la multiplicacion es: \", mult)\n",
        "\n",
        "#Division \n",
        "num_1 = 30 #Entero\n",
        "num_2 = 5.3 #Flotante\n",
        "\n",
        "Division = num_1 / num_2 #Esto es una division\n",
        "print(\"Resultado de la division es: \", Division)\n",
        "\n",
        "#Modulo\n",
        "n_5 = 31 #Entero\n",
        "n_6 = 2\n",
        "\n",
        "M = n_5 % n_6 #Esto es una operación modulo\n",
        "print(\"Resultado del modulo es: \", M)"
      ],
      "metadata": {
        "colab": {
          "base_uri": "https://localhost:8080/"
        },
        "id": "f8yqA-FBDr_L",
        "outputId": "035e86d0-ac44-4e4e-fac2-a4e5a4cb2354"
      },
      "execution_count": null,
      "outputs": [
        {
          "output_type": "stream",
          "name": "stdout",
          "text": [
            "Resultado de la resta es:  0\n",
            "Resultado de la multiplicacion es:  24\n",
            "Resultado de la division es:  5.660377358490567\n",
            "Resultado del modulo es:  1\n"
          ]
        }
      ]
    },
    {
      "cell_type": "code",
      "source": [
        "#OPERADORES DE COMPRACIÓN\n",
        "x = 10\n",
        "Y = 9\n",
        "\n",
        "x == Y #Son iguales?"
      ],
      "metadata": {
        "colab": {
          "base_uri": "https://localhost:8080/"
        },
        "id": "4ANRp6DzE7SA",
        "outputId": "e941cebb-f3b8-45ad-cb95-f746ff53e46f"
      },
      "execution_count": null,
      "outputs": [
        {
          "output_type": "execute_result",
          "data": {
            "text/plain": [
              "False"
            ]
          },
          "metadata": {},
          "execution_count": 42
        }
      ]
    },
    {
      "cell_type": "code",
      "source": [
        "x = 10\n",
        "Y = 9\n",
        "\n",
        "x != Y #Son diferentes?"
      ],
      "metadata": {
        "colab": {
          "base_uri": "https://localhost:8080/"
        },
        "id": "sGrHsG1mHGU0",
        "outputId": "b93d6a3f-d0b1-41d1-936b-d95431333f8b"
      },
      "execution_count": null,
      "outputs": [
        {
          "output_type": "execute_result",
          "data": {
            "text/plain": [
              "True"
            ]
          },
          "metadata": {},
          "execution_count": 43
        }
      ]
    },
    {
      "cell_type": "code",
      "source": [
        "x = 10\n",
        "Y = 9\n",
        "\n",
        "x > Y #X es mayor que Y?"
      ],
      "metadata": {
        "colab": {
          "base_uri": "https://localhost:8080/"
        },
        "id": "kIfEM59tHOcM",
        "outputId": "08068230-f153-4e95-c385-ca85cf0f779c"
      },
      "execution_count": null,
      "outputs": [
        {
          "output_type": "execute_result",
          "data": {
            "text/plain": [
              "True"
            ]
          },
          "metadata": {},
          "execution_count": 44
        }
      ]
    },
    {
      "cell_type": "code",
      "source": [
        "x = 10\n",
        "Y = 9\n",
        "\n",
        "x < Y #X es menor que Y?"
      ],
      "metadata": {
        "colab": {
          "base_uri": "https://localhost:8080/"
        },
        "id": "g7JQubfeHTFT",
        "outputId": "c9b8fd79-987a-4399-f0bc-45c283e9a359"
      },
      "execution_count": null,
      "outputs": [
        {
          "output_type": "execute_result",
          "data": {
            "text/plain": [
              "False"
            ]
          },
          "metadata": {},
          "execution_count": 45
        }
      ]
    },
    {
      "cell_type": "code",
      "source": [
        "x = 10\n",
        "Y = 9\n",
        "\n",
        "x <= Y #X es menor-igual que Y?"
      ],
      "metadata": {
        "colab": {
          "base_uri": "https://localhost:8080/"
        },
        "id": "MWw2M60KHW5T",
        "outputId": "981b1d27-ee0a-4f06-b0cf-00f6b5d57fd7"
      },
      "execution_count": null,
      "outputs": [
        {
          "output_type": "execute_result",
          "data": {
            "text/plain": [
              "False"
            ]
          },
          "metadata": {},
          "execution_count": 46
        }
      ]
    },
    {
      "cell_type": "code",
      "source": [
        "x = 25\n",
        "Y = 20\n",
        "\n",
        "x >= Y #X es mayor-igual que Y?"
      ],
      "metadata": {
        "colab": {
          "base_uri": "https://localhost:8080/"
        },
        "id": "ynG6eKEEHfq5",
        "outputId": "be0207ec-2a64-4cc9-bd97-ff22543699b2"
      },
      "execution_count": null,
      "outputs": [
        {
          "output_type": "execute_result",
          "data": {
            "text/plain": [
              "True"
            ]
          },
          "metadata": {},
          "execution_count": 47
        }
      ]
    },
    {
      "cell_type": "code",
      "source": [
        "#Entradas del usuario\n",
        "\n",
        "Entrada1 = input(\"Dame un numero: \") #Esto es una entrada \n",
        "Entrada2 = input(\"Dame otro numero: \") #Esto es una entrada \n",
        "\n",
        "#type(Entrada1) #Me esta diciendo que Entrada1 es una cadena de formato \"10\"\n",
        "\n",
        "Entrada1_num = int(Entrada1) #Esto me transforma str en int \n",
        "Entrada2_num = int(Entrada2) #Esto me transforma str en int \n",
        "\n",
        "type(Entrada1_num) #Me esta diciendo que es un \n",
        "\n",
        "#OPERACIÓN\n",
        "\n",
        "Operacion = (Entrada1_num / Entrada2_num) - 5 #Operación compuesta\n",
        "print(\"Resultado de la operación es: \", Operacion)"
      ],
      "metadata": {
        "colab": {
          "base_uri": "https://localhost:8080/"
        },
        "id": "ZAGm6Uw3Hrdn",
        "outputId": "d1730677-5490-4934-df05-696c8ba7089f"
      },
      "execution_count": null,
      "outputs": [
        {
          "output_type": "stream",
          "name": "stdout",
          "text": [
            "Dame un numero: 15\n",
            "Dame otro numero: 30\n",
            "Resultado de la operación es:  -4.5\n"
          ]
        }
      ]
    },
    {
      "cell_type": "code",
      "source": [
        ""
      ],
      "metadata": {
        "id": "kHYB0htbIcTE"
      },
      "execution_count": null,
      "outputs": []
    }
  ]
}